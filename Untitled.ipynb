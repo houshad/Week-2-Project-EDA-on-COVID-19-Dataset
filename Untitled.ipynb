{
 "cells": [
  {
   "cell_type": "raw",
   "id": "9ea748f9-8812-4c71-9aed-5e2692f9ddcf",
   "metadata": {},
   "source": [
    "🔰 1. Objective of the Project:\n",
    "You are given a COVID-19 dataset. Your goal is to:\n",
    " Understand the data (EDA = Exploratory Data Analysis)\n",
    " Find patterns (which countries are most affected, recovery trends, etc.)\n",
    " Visualize the trends using graphs (line chart, bar chart, pie chart)"
   ]
  },
  {
   "cell_type": "raw",
   "id": "c1915316-0e42-4218-9fe3-677db7f39b62",
   "metadata": {},
   "source": [
    "🛠️ 2. Tools Required\n",
    "You will use:\n",
    " Python for programming\n",
    " Jupyter Notebook or Google Colab to write and run code \n",
    " pandas to handle data\n",
    " matplotlib and seaborn for data visualization"
   ]
  },
  {
   "cell_type": "raw",
   "id": "f27b0c34-9f26-42d9-a0bb-24a9e01b9581",
   "metadata": {},
   "source": [
    "✅ Step 1: Import Libraries and Load Dataset:"
   ]
  },
  {
   "cell_type": "code",
   "execution_count": 6,
   "id": "ccbe4109-8a88-4b49-89ed-5f8631f0f952",
   "metadata": {},
   "outputs": [],
   "source": [
    "import pandas as pd                # to work with data\n",
    "import matplotlib.pyplot as plt    # to create graphs\n",
    "import seaborn as sns              # for attractive graphs\n",
    "\n",
    "# Load your dataset (replace the filename with the actual file)\n",
    "df = pd.read_csv(\"covid_data.csv\")"
   ]
  },
  {
   "cell_type": "raw",
   "id": "0a21d65a-1d1a-4dbe-b4a8-bb04ae5a2005",
   "metadata": {},
   "source": [
    "💡 This loads your CSV file into a DataFrame named df."
   ]
  },
  {
   "cell_type": "raw",
   "id": "8effdad4-f4a3-4624-9fdc-8c48fb73914e",
   "metadata": {},
   "source": [
    "🧹 Step 2: Clean the Data:"
   ]
  },
  {
   "cell_type": "code",
   "execution_count": 7,
   "id": "3df925ed-3551-45a6-87b4-fef7a72edf65",
   "metadata": {},
   "outputs": [
    {
     "name": "stdout",
     "output_type": "stream",
     "text": [
      "Date                  0\n",
      "Country/Region        0\n",
      "Province/State    50220\n",
      "Lat                   0\n",
      "Long                  0\n",
      "Confirmed             0\n",
      "Recovered          3780\n",
      "Deaths                0\n",
      "dtype: int64\n",
      "<class 'pandas.core.frame.DataFrame'>\n",
      "RangeIndex: 72090 entries, 0 to 72089\n",
      "Data columns (total 8 columns):\n",
      " #   Column          Non-Null Count  Dtype  \n",
      "---  ------          --------------  -----  \n",
      " 0   Date            72090 non-null  object \n",
      " 1   Country/Region  72090 non-null  object \n",
      " 2   Province/State  21870 non-null  object \n",
      " 3   Lat             72090 non-null  float64\n",
      " 4   Long            72090 non-null  float64\n",
      " 5   Confirmed       72090 non-null  int64  \n",
      " 6   Recovered       68310 non-null  float64\n",
      " 7   Deaths          72090 non-null  int64  \n",
      "dtypes: float64(3), int64(2), object(3)\n",
      "memory usage: 4.4+ MB\n"
     ]
    }
   ],
   "source": [
    "# Check if there are any missing (null) values\n",
    "print(df.isnull().sum())\n",
    "\n",
    "# Check for duplicate rows\n",
    "df.duplicated().sum()\n",
    "\n",
    "# Remove duplicate rows if any\n",
    "df = df.drop_duplicates()\n",
    "\n",
    "# Check the structure of data\n",
    "df.info()"
   ]
  },
  {
   "cell_type": "raw",
   "id": "06c269ad-8621-4f2c-99d8-7c16239ae180",
   "metadata": {},
   "source": [
    "🔍 Step 3: Explore the Data (Basic EDA):"
   ]
  },
  {
   "cell_type": "raw",
   "id": "c60d7a4f-9087-4cec-be5e-046ceab15f29",
   "metadata": {},
   "source": [
    "👀 Show Top 5 Rows"
   ]
  },
  {
   "cell_type": "code",
   "execution_count": 8,
   "id": "84f3d933-1938-4ebf-878b-23687fe0ad4e",
   "metadata": {},
   "outputs": [
    {
     "data": {
      "text/html": [
       "<div>\n",
       "<style scoped>\n",
       "    .dataframe tbody tr th:only-of-type {\n",
       "        vertical-align: middle;\n",
       "    }\n",
       "\n",
       "    .dataframe tbody tr th {\n",
       "        vertical-align: top;\n",
       "    }\n",
       "\n",
       "    .dataframe thead th {\n",
       "        text-align: right;\n",
       "    }\n",
       "</style>\n",
       "<table border=\"1\" class=\"dataframe\">\n",
       "  <thead>\n",
       "    <tr style=\"text-align: right;\">\n",
       "      <th></th>\n",
       "      <th>Date</th>\n",
       "      <th>Country/Region</th>\n",
       "      <th>Province/State</th>\n",
       "      <th>Lat</th>\n",
       "      <th>Long</th>\n",
       "      <th>Confirmed</th>\n",
       "      <th>Recovered</th>\n",
       "      <th>Deaths</th>\n",
       "    </tr>\n",
       "  </thead>\n",
       "  <tbody>\n",
       "    <tr>\n",
       "      <th>0</th>\n",
       "      <td>2020-01-22</td>\n",
       "      <td>Afghanistan</td>\n",
       "      <td>NaN</td>\n",
       "      <td>33.93911</td>\n",
       "      <td>67.709953</td>\n",
       "      <td>0</td>\n",
       "      <td>0.0</td>\n",
       "      <td>0</td>\n",
       "    </tr>\n",
       "    <tr>\n",
       "      <th>1</th>\n",
       "      <td>2020-01-23</td>\n",
       "      <td>Afghanistan</td>\n",
       "      <td>NaN</td>\n",
       "      <td>33.93911</td>\n",
       "      <td>67.709953</td>\n",
       "      <td>0</td>\n",
       "      <td>0.0</td>\n",
       "      <td>0</td>\n",
       "    </tr>\n",
       "    <tr>\n",
       "      <th>2</th>\n",
       "      <td>2020-01-24</td>\n",
       "      <td>Afghanistan</td>\n",
       "      <td>NaN</td>\n",
       "      <td>33.93911</td>\n",
       "      <td>67.709953</td>\n",
       "      <td>0</td>\n",
       "      <td>0.0</td>\n",
       "      <td>0</td>\n",
       "    </tr>\n",
       "    <tr>\n",
       "      <th>3</th>\n",
       "      <td>2020-01-25</td>\n",
       "      <td>Afghanistan</td>\n",
       "      <td>NaN</td>\n",
       "      <td>33.93911</td>\n",
       "      <td>67.709953</td>\n",
       "      <td>0</td>\n",
       "      <td>0.0</td>\n",
       "      <td>0</td>\n",
       "    </tr>\n",
       "    <tr>\n",
       "      <th>4</th>\n",
       "      <td>2020-01-26</td>\n",
       "      <td>Afghanistan</td>\n",
       "      <td>NaN</td>\n",
       "      <td>33.93911</td>\n",
       "      <td>67.709953</td>\n",
       "      <td>0</td>\n",
       "      <td>0.0</td>\n",
       "      <td>0</td>\n",
       "    </tr>\n",
       "  </tbody>\n",
       "</table>\n",
       "</div>"
      ],
      "text/plain": [
       "         Date Country/Region Province/State       Lat       Long  Confirmed  \\\n",
       "0  2020-01-22    Afghanistan            NaN  33.93911  67.709953          0   \n",
       "1  2020-01-23    Afghanistan            NaN  33.93911  67.709953          0   \n",
       "2  2020-01-24    Afghanistan            NaN  33.93911  67.709953          0   \n",
       "3  2020-01-25    Afghanistan            NaN  33.93911  67.709953          0   \n",
       "4  2020-01-26    Afghanistan            NaN  33.93911  67.709953          0   \n",
       "\n",
       "   Recovered  Deaths  \n",
       "0        0.0       0  \n",
       "1        0.0       0  \n",
       "2        0.0       0  \n",
       "3        0.0       0  \n",
       "4        0.0       0  "
      ]
     },
     "execution_count": 8,
     "metadata": {},
     "output_type": "execute_result"
    }
   ],
   "source": [
    "df.head()"
   ]
  },
  {
   "cell_type": "raw",
   "id": "f613a6c8-f435-4714-b96a-d7307c8eb414",
   "metadata": {},
   "source": [
    "This gives you a quick look at the first few rows of data."
   ]
  },
  {
   "cell_type": "raw",
   "id": "211c54ce-14d0-4c5b-a7e0-d86667fe3137",
   "metadata": {},
   "source": [
    "📊 Summary Statistics:"
   ]
  },
  {
   "cell_type": "code",
   "execution_count": 9,
   "id": "20d876b8-000f-4f98-aa34-927007b91e67",
   "metadata": {},
   "outputs": [
    {
     "data": {
      "text/html": [
       "<div>\n",
       "<style scoped>\n",
       "    .dataframe tbody tr th:only-of-type {\n",
       "        vertical-align: middle;\n",
       "    }\n",
       "\n",
       "    .dataframe tbody tr th {\n",
       "        vertical-align: top;\n",
       "    }\n",
       "\n",
       "    .dataframe thead th {\n",
       "        text-align: right;\n",
       "    }\n",
       "</style>\n",
       "<table border=\"1\" class=\"dataframe\">\n",
       "  <thead>\n",
       "    <tr style=\"text-align: right;\">\n",
       "      <th></th>\n",
       "      <th>Lat</th>\n",
       "      <th>Long</th>\n",
       "      <th>Confirmed</th>\n",
       "      <th>Recovered</th>\n",
       "      <th>Deaths</th>\n",
       "    </tr>\n",
       "  </thead>\n",
       "  <tbody>\n",
       "    <tr>\n",
       "      <th>count</th>\n",
       "      <td>72090.000000</td>\n",
       "      <td>72090.000000</td>\n",
       "      <td>7.209000e+04</td>\n",
       "      <td>6.831000e+04</td>\n",
       "      <td>72090.000000</td>\n",
       "    </tr>\n",
       "    <tr>\n",
       "      <th>mean</th>\n",
       "      <td>20.961559</td>\n",
       "      <td>23.343773</td>\n",
       "      <td>4.284619e+04</td>\n",
       "      <td>2.760750e+04</td>\n",
       "      <td>1610.020807</td>\n",
       "    </tr>\n",
       "    <tr>\n",
       "      <th>std</th>\n",
       "      <td>24.882193</td>\n",
       "      <td>70.429778</td>\n",
       "      <td>3.257632e+05</td>\n",
       "      <td>2.119790e+05</td>\n",
       "      <td>10272.269230</td>\n",
       "    </tr>\n",
       "    <tr>\n",
       "      <th>min</th>\n",
       "      <td>-51.796300</td>\n",
       "      <td>-135.000000</td>\n",
       "      <td>0.000000e+00</td>\n",
       "      <td>0.000000e+00</td>\n",
       "      <td>0.000000</td>\n",
       "    </tr>\n",
       "    <tr>\n",
       "      <th>25%</th>\n",
       "      <td>6.428055</td>\n",
       "      <td>-15.310100</td>\n",
       "      <td>1.600000e+01</td>\n",
       "      <td>3.000000e+00</td>\n",
       "      <td>0.000000</td>\n",
       "    </tr>\n",
       "    <tr>\n",
       "      <th>50%</th>\n",
       "      <td>22.300000</td>\n",
       "      <td>20.939400</td>\n",
       "      <td>4.400000e+02</td>\n",
       "      <td>2.020000e+02</td>\n",
       "      <td>6.000000</td>\n",
       "    </tr>\n",
       "    <tr>\n",
       "      <th>75%</th>\n",
       "      <td>41.153300</td>\n",
       "      <td>80.771797</td>\n",
       "      <td>4.688750e+03</td>\n",
       "      <td>2.150000e+03</td>\n",
       "      <td>89.000000</td>\n",
       "    </tr>\n",
       "    <tr>\n",
       "      <th>max</th>\n",
       "      <td>71.706900</td>\n",
       "      <td>178.065000</td>\n",
       "      <td>8.106384e+06</td>\n",
       "      <td>6.524595e+06</td>\n",
       "      <td>219286.000000</td>\n",
       "    </tr>\n",
       "  </tbody>\n",
       "</table>\n",
       "</div>"
      ],
      "text/plain": [
       "                Lat          Long     Confirmed     Recovered         Deaths\n",
       "count  72090.000000  72090.000000  7.209000e+04  6.831000e+04   72090.000000\n",
       "mean      20.961559     23.343773  4.284619e+04  2.760750e+04    1610.020807\n",
       "std       24.882193     70.429778  3.257632e+05  2.119790e+05   10272.269230\n",
       "min      -51.796300   -135.000000  0.000000e+00  0.000000e+00       0.000000\n",
       "25%        6.428055    -15.310100  1.600000e+01  3.000000e+00       0.000000\n",
       "50%       22.300000     20.939400  4.400000e+02  2.020000e+02       6.000000\n",
       "75%       41.153300     80.771797  4.688750e+03  2.150000e+03      89.000000\n",
       "max       71.706900    178.065000  8.106384e+06  6.524595e+06  219286.000000"
      ]
     },
     "execution_count": 9,
     "metadata": {},
     "output_type": "execute_result"
    }
   ],
   "source": [
    "df.describe()"
   ]
  },
  {
   "cell_type": "raw",
   "id": "f8ee2b11-549e-4e86-973c-16aeb4436b96",
   "metadata": {},
   "source": [
    "This gives you information like mean, min, max, etc. for numerical columns."
   ]
  },
  {
   "cell_type": "raw",
   "id": "442f2962-7ae6-47ed-a3d0-cbc38c400c1d",
   "metadata": {},
   "source": [
    "🌍 Number of Unique Countries:"
   ]
  },
  {
   "cell_type": "code",
   "execution_count": 9,
   "id": "f40db2a2-60ab-4e88-96be-90c705eb1477",
   "metadata": {},
   "outputs": [
    {
     "data": {
      "text/plain": [
       "189"
      ]
     },
     "execution_count": 9,
     "metadata": {},
     "output_type": "execute_result"
    }
   ],
   "source": [
    "df['Country/Region'].nunique()"
   ]
  },
  {
   "cell_type": "raw",
   "id": "38bd2e6e-7838-4869-9628-6aecb81242cf",
   "metadata": {},
   "source": [
    "This tells you how many countries are in the dataset."
   ]
  },
  {
   "cell_type": "raw",
   "id": "0dac2564-55b6-453c-85a0-559a1ae05709",
   "metadata": {},
   "source": [
    "🔝 Most Affected Countries:"
   ]
  },
  {
   "cell_type": "code",
   "execution_count": 15,
   "id": "d073f317-cae9-4101-9996-9f6ed77e948a",
   "metadata": {},
   "outputs": [
    {
     "name": "stdout",
     "output_type": "stream",
     "text": [
      "Country/Region\n",
      "US                738110558\n",
      "Brazil            420424139\n",
      "India             400134578\n",
      "Russia            131125737\n",
      "Peru               73605564\n",
      "Spain              72565302\n",
      "Mexico             66665740\n",
      "South Africa       62324572\n",
      "Colombia           59585580\n",
      "United Kingdom     59314995\n",
      "Name: Confirmed, dtype: int64\n"
     ]
    }
   ],
   "source": [
    "top_countries = df.groupby('Country/Region')['Confirmed'].sum().sort_values(ascending=False).head(10)\n",
    "print(top_countries)"
   ]
  },
  {
   "cell_type": "raw",
   "id": "13446b95-468f-4c9b-95e1-64308c951915",
   "metadata": {},
   "source": [
    "This groups the data by country and shows the top 10 countries with the highest confirmed cases."
   ]
  },
  {
   "cell_type": "raw",
   "id": "46bb0eea-cfdd-4e31-9408-3b29b1983654",
   "metadata": {},
   "source": [
    "📊 Step 4: Visualize the Data:"
   ]
  },
  {
   "cell_type": "raw",
   "id": "2dbd4a70-0844-488d-ab92-d21065d4c32b",
   "metadata": {},
   "source": [
    "🟦 4.1 Line Chart – Confirmed Cases Over Time:"
   ]
  },
  {
   "cell_type": "code",
   "execution_count": 16,
   "id": "95895df7-1dce-44ee-8634-280d0f760781",
   "metadata": {},
   "outputs": [
    {
     "data": {
      "image/png": "[encoded data removed]",
      "text/plain": [
       "<Figure size 1200x600 with 1 Axes>"
      ]
     },
     "metadata": {},
     "output_type": "display_data"
    }
   ],
   "source": [
    "df['Date'] = pd.to_datetime(df['Date'])  # Convert to date format\n",
    "\n",
    "# Group by date and sum confirmed cases globally\n",
    "global_confirmed = df.groupby('Date')['Confirmed'].sum()\n",
    "\n",
    "# Plot line chart\n",
    "plt.figure(figsize=(12,6))\n",
    "plt.plot(global_confirmed, color='blue')\n",
    "plt.title('Global Confirmed Cases Over Time')\n",
    "plt.xlabel('Date')\n",
    "plt.ylabel('Confirmed Cases')\n",
    "plt.xticks(rotation=45)\n",
    "plt.grid(True)\n",
    "plt.tight_layout()\n",
    "plt.show()\n"
   ]
  },
  {
   "cell_type": "raw",
   "id": "f7226464-2b72-4246-9816-f02a8cdbbc2e",
   "metadata": {},
   "source": [
    "📌 This shows how total confirmed cases increased over time."
   ]
  },
  {
   "cell_type": "raw",
   "id": "249da138-1c18-4a62-9bde-a09188f46128",
   "metadata": {},
   "source": [
    "🟥 4.2 Bar Chart – Top 10 Countries with Highest Deaths:"
   ]
  },
  {
   "cell_type": "code",
   "execution_count": 20,
   "id": "c07e0971-3686-4681-91b9-0e91479f6e67",
   "metadata": {},
   "outputs": [
    {
     "data": {
      "image/png": "[encoded data removed]",
      "text/plain": [
       "<Figure size 1000x600 with 1 Axes>"
      ]
     },
     "metadata": {},
     "output_type": "display_data"
    }
   ],
   "source": [
    "top_deaths = df.groupby('Country/Region')['Deaths'].sum().sort_values(ascending=False).head(10)\n",
    "\n",
    "plt.figure(figsize=(10,6))\n",
    "sns.barplot(x=top_deaths.values, y=top_deaths.index)\n",
    "plt.title('Top 10 Countries by Deaths')\n",
    "plt.xlabel('Total Deaths')\n",
    "plt.ylabel('Country')\n",
    "plt.tight_layout()\n",
    "plt.show()\n"
   ]
  },
  {
   "cell_type": "raw",
   "id": "d768af22-dea6-4f9f-9766-6b6b160c1d29",
   "metadata": {},
   "source": [
    "📌 This shows which countries had the most deaths."
   ]
  },
  {
   "cell_type": "raw",
   "id": "1eabc976-11fe-4418-9865-4dfabde5f04d",
   "metadata": {},
   "source": [
    "🟩 4.3 Pie Chart – Global Recovered vs Deaths:"
   ]
  },
  {
   "cell_type": "code",
   "execution_count": 21,
   "id": "c22c8175-2fb8-4054-9795-6a784c5876fa",
   "metadata": {},
   "outputs": [
    {
     "data": {
      "image/png": "[encoded data removed]",
      "text/plain": [
       "<Figure size 600x600 with 1 Axes>"
      ]
     },
     "metadata": {},
     "output_type": "display_data"
    }
   ],
   "source": [
    "total_recovered = df['Recovered'].sum()\n",
    "total_deaths = df['Deaths'].sum()\n",
    "\n",
    "plt.figure(figsize=(6,6))\n",
    "plt.pie([total_recovered, total_deaths],\n",
    "        labels=['Recovered', 'Deaths'],\n",
    "        autopct='%1.1f%%',\n",
    "        colors=['green', 'red'],\n",
    "        startangle=140)\n",
    "plt.title('Global Recovery vs Deaths')\n",
    "plt.show()\n"
   ]
  },
  {
   "cell_type": "raw",
   "id": "1802048d-e555-42cb-a9fb-222ef2713184",
   "metadata": {},
   "source": [
    "📌 This shows what percentage of total outcomes are recovered vs. deaths."
   ]
  },
  {
   "cell_type": "raw",
   "id": "39765a4e-8162-41c5-beca-288841b7c620",
   "metadata": {},
   "source": [
    "🔍 Sample Observations:\n",
    "\n",
    "COVID-19 confirmed cases increased rapidly after March 2020.\n",
    "USA, India, and Brazil are among the most affected countries.\n",
    "The death rate is much smaller than the recovery rate globally.\n",
    "Some countries have managed high recovery rates, showing good healthcare response.\n",
    "Recovery and death data vary widely by country and time."
   ]
  }
 ],
 "metadata": {
  "kernelspec": {
   "display_name": "Python [conda env:base] *",
   "language": "python",
   "name": "conda-base-py"
  },
  "language_info": {
   "codemirror_mode": {
    "name": "ipython",
    "version": 3
   },
   "file_extension": ".py",
   "mimetype": "text/x-python",
   "name": "python",
   "nbconvert_exporter": "python",
   "pygments_lexer": "ipython3",
   "version": "3.13.5"
  }
 },
 "nbformat": 4,
 "nbformat_minor": 5
}
